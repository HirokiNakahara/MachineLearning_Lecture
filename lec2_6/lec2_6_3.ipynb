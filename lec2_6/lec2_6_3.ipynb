{
 "cells": [
  {
   "cell_type": "markdown",
   "metadata": {},
   "source": [
    "<font size=\"6\">k分割交差検証</font>\n",
    "\n",
    "Source: http://www.cs.nthu.edu.tw/~shwu/courses/ml/labs/08_CV_Ensembling/08_CV_Ensembling.html"
   ]
  },
  {
   "cell_type": "code",
   "execution_count": 1,
   "metadata": {},
   "outputs": [],
   "source": [
    "from IPython.display import Image\n",
    "from IPython.display import display\n",
    "import pandas as pd\n",
    "import numpy as np\n",
    "import matplotlib.pyplot as plt\n",
    "\n",
    "# inline plotting instead of popping out\n",
    "%matplotlib inline\n",
    "\n",
    "# load utility classes/functions that has been taught in previous labs\n",
    "# e.g., plot_decision_regions()\n",
    "import os, sys\n",
    "module_path = os.path.abspath(os.path.join('.'))\n",
    "sys.path.append(module_path)\n",
    "#from lib import *"
   ]
  },
  {
   "cell_type": "markdown",
   "metadata": {},
   "source": [
    "<font size=\"5\">データセットの準備. Irisデータセットを読み込み</font>"
   ]
  },
  {
   "cell_type": "code",
   "execution_count": 4,
   "metadata": {},
   "outputs": [],
   "source": [
    "from sklearn.datasets import load_iris\n",
    "from sklearn.model_selection import cross_val_score\n",
    "from sklearn.model_selection import train_test_split\n",
    "from sklearn.preprocessing import StandardScaler\n",
    "import numpy as np\n",
    "\n",
    "iris = load_iris()\n",
    "X, y = iris.data[:,[1,2]], iris.target\n",
    "\n",
    "# hold out testing set\n",
    "X_train, X_test, y_train, y_test = train_test_split(X, y, test_size=0.3, random_state=1)"
   ]
  },
  {
   "cell_type": "markdown",
   "metadata": {},
   "source": [
    "<font size=\"5\">学習. パイプライン処理+グリッドサーチ+k分割交差検証</font>"
   ]
  },
  {
   "cell_type": "code",
   "execution_count": 7,
   "metadata": {},
   "outputs": [
    {
     "name": "stdout",
     "output_type": "stream",
     "text": [
      "[1-NN]\n",
      "Validation accuracy: 0.894 [0.91304348 0.95454545 0.85       0.85       0.9       ]\n",
      "[15-NN]\n",
      "Validation accuracy: 0.914 [0.95652174 0.86363636 0.85       0.9        1.        ]\n",
      "[50-NN]\n",
      "Validation accuracy: 0.801 [0.73913043 0.86363636 0.75       0.75       0.9       ]\n"
     ]
    }
   ],
   "source": [
    "from sklearn.pipeline import Pipeline\n",
    "from sklearn.neighbors import KNeighborsClassifier\n",
    "from sklearn.metrics import accuracy_score\n",
    "\n",
    "best_k, best_score = -1, -1\n",
    "clfs = {}\n",
    "\n",
    "for k in [1, 15, 50]: # experiment different hyperparameter\n",
    "    pipe = Pipeline([['sc', StandardScaler()], ['clf', KNeighborsClassifier(n_neighbors=k)]])\n",
    "    pipe.fit(X_train, y_train)\n",
    "    # K-Fold CV\n",
    "    scores = cross_val_score(pipe, X_train, y_train, cv=5)\n",
    "    print('[%d-NN]\\nValidation accuracy: %.3f %s' % (k, scores.mean(), scores))\n",
    "    if scores.mean() > best_score:\n",
    "        best_k, best_score = k, scores.mean()\n",
    "    clfs[k] = pipe"
   ]
  },
  {
   "cell_type": "markdown",
   "metadata": {},
   "source": [
    "<font size=\"5\">学習結果の評価. テスト用データを用いて汎化誤差を評価する.</font>"
   ]
  },
  {
   "cell_type": "code",
   "execution_count": 8,
   "metadata": {},
   "outputs": [
    {
     "name": "stdout",
     "output_type": "stream",
     "text": [
      "Test accuracy: 0.93 (n_neighbors=15 selected by 5-fold CV)\n"
     ]
    }
   ],
   "source": [
    "best_clf = clfs[best_k]\n",
    "best_clf.fit(X_train, y_train)\n",
    "\n",
    "# performance reporting\n",
    "y_pred = best_clf.predict(X_test)\n",
    "print('Test accuracy: %.2f (n_neighbors=%d selected by 5-fold CV)' % \n",
    "      (accuracy_score(y_test, y_pred), best_k))"
   ]
  },
  {
   "cell_type": "code",
   "execution_count": null,
   "metadata": {},
   "outputs": [],
   "source": []
  }
 ],
 "metadata": {
  "kernelspec": {
   "display_name": "Python 3",
   "language": "python",
   "name": "python3"
  },
  "language_info": {
   "codemirror_mode": {
    "name": "ipython",
    "version": 3
   },
   "file_extension": ".py",
   "mimetype": "text/x-python",
   "name": "python",
   "nbconvert_exporter": "python",
   "pygments_lexer": "ipython3",
   "version": "3.7.0"
  }
 },
 "nbformat": 4,
 "nbformat_minor": 2
}
