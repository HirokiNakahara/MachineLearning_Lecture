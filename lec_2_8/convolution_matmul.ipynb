{
  "nbformat": 4,
  "nbformat_minor": 0,
  "metadata": {
    "colab": {
      "name": "convolution_matmul.ipynb",
      "provenance": [],
      "collapsed_sections": []
    },
    "kernelspec": {
      "name": "python3",
      "display_name": "Python 3"
    },
    "language_info": {
      "name": "python"
    }
  },
  "cells": [
    {
      "cell_type": "markdown",
      "metadata": {
        "id": "d7QpmYMyKLUs"
      },
      "source": [
        "#im2colを使った畳み込み演算の行列計算処理\n"
      ]
    },
    {
      "cell_type": "code",
      "metadata": {
        "id": "PvubZvulKKSY"
      },
      "source": [
        "import numpy as np\n",
        "\n",
        "def im2col(input_data, filter_h, filter_w, stride_h=1, stride_w=1, pad_h=0, pad_w=0):\n",
        "\n",
        "    N, C, H, W = input_data.shape\n",
        "    out_h = (H + 2*pad_h - filter_h)//stride_h + 1\n",
        "    out_w = (W + 2*pad_w - filter_w)//stride_w + 1\n",
        "\n",
        "    img = np.pad(input_data, [(0,0), (0,0), (pad_h, pad_h), (pad_w, pad_w)], 'constant')\n",
        "    col = np.zeros((N, C, filter_h, filter_w, out_h, out_w))\n",
        "\n",
        "    for y in range(filter_h):\n",
        "        y_max = y + stride_h*out_h\n",
        "        for x in range(filter_w):\n",
        "            x_max = x + stride_w*out_w\n",
        "            col[:, :, y, x, :, :] = img[:, :, y:y_max:stride_h, x:x_max:stride_w]\n",
        "\n",
        "    col = col.transpose(0, 4, 5, 1, 2, 3).reshape(N*out_h*out_w, -1)\n",
        "    return col, out_h, out_w "
      ],
      "execution_count": 1,
      "outputs": []
    },
    {
      "cell_type": "code",
      "metadata": {
        "id": "_HktXhtPKZv1"
      },
      "source": [
        "# 畳み込み演算する画像 ( img.shape = (1, 1, 4, 4) )\n",
        "img =np.array([[[\n",
        "    [0, 1, 2, 3],\n",
        "    [4, 5, 6, 7],\n",
        "    [8, 9, 0, 1],\n",
        "    [2, 3, 4, 5],\n",
        "]]])\n",
        "\n",
        "# フィルター画像 ( kernel.shape = (2, 2) )\n",
        "kernel = np.array([\n",
        "    [1, 0],\n",
        "    [0, 1]\n",
        "])"
      ],
      "execution_count": 2,
      "outputs": []
    },
    {
      "cell_type": "code",
      "metadata": {
        "id": "77CIeSQHKea6"
      },
      "source": [
        "# im2col関数を使って、画像をスライシング\n",
        "img_col, out_h, out_w= im2col(img, 2, 2, 1, 1, 0, 0)"
      ],
      "execution_count": 3,
      "outputs": []
    },
    {
      "cell_type": "markdown",
      "metadata": {
        "id": "xJl5DwnDKqwK"
      },
      "source": [
        "　画像は、im2col関数で展開しましたが、フィルターの方は、kernel_col = kernel.reshape(k_n, -1).T だけでOK"
      ]
    },
    {
      "cell_type": "code",
      "metadata": {
        "id": "esCfK3hsKhC_"
      },
      "source": [
        "# フィルター個数=1\n",
        "k_n = 1 \n",
        "\n",
        "# フィルターを転置\n",
        "kernel_col = kernel.reshape(k_n, -1).T \n"
      ],
      "execution_count": 4,
      "outputs": []
    },
    {
      "cell_type": "code",
      "metadata": {
        "id": "PQizdR1YKiXH"
      },
      "source": [
        "# 画像のスライシング結果と転置したフィルターの内積を取る\n",
        "conv = np.dot(img_col, kernel_col)"
      ],
      "execution_count": 5,
      "outputs": []
    },
    {
      "cell_type": "code",
      "metadata": {
        "colab": {
          "base_uri": "https://localhost:8080/"
        },
        "id": "6tRnLx5mKkpq",
        "outputId": "c39ae42c-dd12-4b29-b4ad-0879766b4925"
      },
      "source": [
        "# 内積結果の行列を整形\n",
        "conv = conv.reshape(img.shape[0], out_h, out_w, -1).transpose(0, 3, 2, 1)\n",
        "print(conv)"
      ],
      "execution_count": 6,
      "outputs": [
        {
          "output_type": "stream",
          "name": "stdout",
          "text": [
            "[[[[ 5. 13. 11.]\n",
            "   [ 7.  5. 13.]\n",
            "   [ 9.  7.  5.]]]]\n"
          ]
        }
      ]
    },
    {
      "cell_type": "code",
      "metadata": {
        "id": "3YUqBhsFKuAa"
      },
      "source": [
        ""
      ],
      "execution_count": null,
      "outputs": []
    }
  ]
}