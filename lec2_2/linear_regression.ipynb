{
  "nbformat": 4,
  "nbformat_minor": 0,
  "metadata": {
    "kernelspec": {
      "display_name": "Python 3",
      "language": "python",
      "name": "python3"
    },
    "language_info": {
      "codemirror_mode": {
        "name": "ipython",
        "version": 3
      },
      "file_extension": ".py",
      "mimetype": "text/x-python",
      "name": "python",
      "nbconvert_exporter": "python",
      "pygments_lexer": "ipython3",
      "version": "3.6.3"
    },
    "colab": {
      "name": "linear_regression.ipynb",
      "provenance": []
    }
  },
  "cells": [
    {
      "cell_type": "markdown",
      "metadata": {
        "id": "EsvaUHc25cPA",
        "colab_type": "text"
      },
      "source": [
        "<BR>\n",
        "<FONT SIZE=\"7\">様々な最小二乗学習</FONT>\n",
        "<BR>\n",
        "Source: https://qiita.com/kotaroito/items/4eb29d42d7f8c534332f\n",
        "<BR>\n",
        "(scikit-learnで線形モデルとカーネルモデルの回帰分析をやってみた - イラストで学ぶ機会学習)"
      ]
    },
    {
      "cell_type": "code",
      "metadata": {
        "id": "UxHnpVZQ5cPB",
        "colab_type": "code",
        "colab": {
          "base_uri": "https://localhost:8080/",
          "height": 282
        },
        "outputId": "c5b690e3-75a4-4060-d922-592d4a59c680"
      },
      "source": [
        "import numpy as np\n",
        "import matplotlib.pyplot as plt\n",
        "\n",
        "%matplotlib inline\n",
        "\n",
        "n = 50; N = 1000\n",
        "\n",
        "x = np.linspace(-3, 3, n)\n",
        "X = np.linspace(-3, 3, N)\n",
        "\n",
        "pix = np.pi * x\n",
        "y = np.sin(pix) / pix + 0.1 * x + 0.2 * np.random.randn(n)\n",
        "\n",
        "x = x.reshape(-1, 1)\n",
        "X = X.reshape(-1, 1)\n",
        "y = y.reshape(-1, 1)\n",
        "\n",
        "plt.scatter(x,y)"
      ],
      "execution_count": 1,
      "outputs": [
        {
          "output_type": "execute_result",
          "data": {
            "text/plain": [
              "<matplotlib.collections.PathCollection at 0x7f669f160438>"
            ]
          },
          "metadata": {
            "tags": []
          },
          "execution_count": 1
        },
        {
          "output_type": "display_data",
          "data": {
            "image/png": "[encoded data removed]",
            "text/plain": [
              "<Figure size 432x288 with 1 Axes>"
            ]
          },
          "metadata": {
            "tags": []
          }
        }
      ]
    },
    {
      "cell_type": "markdown",
      "metadata": {
        "id": "TtC8BqIO5cPF",
        "colab_type": "text"
      },
      "source": [
        "<BR>\n",
        "<font size=\"7\">1. 線形モデルによる回帰</font>"
      ]
    },
    {
      "cell_type": "code",
      "metadata": {
        "id": "6cO9O6ZJ5cPF",
        "colab_type": "code",
        "colab": {
          "base_uri": "https://localhost:8080/",
          "height": 282
        },
        "outputId": "cd52a3bf-3774-4356-b786-91c4827edb4c"
      },
      "source": [
        "from sklearn.linear_model import LinearRegression\n",
        "\n",
        "clf = LinearRegression()\n",
        "clf.fit(x, y)\n",
        "\n",
        "p = clf.predict(X)\n",
        "\n",
        "plt.scatter(x, y)\n",
        "plt.plot(X,p)\n",
        "\n",
        "print(clf.score(x, y))"
      ],
      "execution_count": 2,
      "outputs": [
        {
          "output_type": "stream",
          "text": [
            "0.12479169412256896\n"
          ],
          "name": "stdout"
        },
        {
          "output_type": "display_data",
          "data": {
            "image/png": "[encoded data removed]",
            "text/plain": [
              "<Figure size 432x288 with 1 Axes>"
            ]
          },
          "metadata": {
            "tags": []
          }
        }
      ]
    },
    {
      "cell_type": "markdown",
      "metadata": {
        "id": "mBUvCue45cPI",
        "colab_type": "text"
      },
      "source": [
        "<BR>\n",
        "<font size=\"7\">2. カーネルモデルによる回帰</font>"
      ]
    },
    {
      "cell_type": "code",
      "metadata": {
        "id": "vvzifrKI5cPI",
        "colab_type": "code",
        "colab": {
          "base_uri": "https://localhost:8080/",
          "height": 282
        },
        "outputId": "60c839d4-b52d-4c4a-dca8-ccb75833dee5"
      },
      "source": [
        "from sklearn.metrics.pairwise import rbf_kernel\n",
        "\n",
        "kx = rbf_kernel(x, x)\n",
        "KX = rbf_kernel(X, x)\n",
        "\n",
        "clf = LinearRegression()\n",
        "clf.fit(kx, y)\n",
        "\n",
        "p = clf.predict(KX)\n",
        "\n",
        "plt.scatter(x, y)\n",
        "plt.plot(X, p)\n",
        "\n",
        "print(clf.score(kx, y))"
      ],
      "execution_count": 3,
      "outputs": [
        {
          "output_type": "stream",
          "text": [
            "0.9281469914102684\n"
          ],
          "name": "stdout"
        },
        {
          "output_type": "display_data",
          "data": {
            "image/png": "[encoded data removed]",
            "text/plain": [
              "<Figure size 432x288 with 1 Axes>"
            ]
          },
          "metadata": {
            "tags": []
          }
        }
      ]
    },
    {
      "cell_type": "markdown",
      "metadata": {
        "id": "-ddNJ4lY5cPK",
        "colab_type": "text"
      },
      "source": [
        "<BR>\n",
        "<font size=\"7\">3. L2制約付きカーネルモデル回帰</font>"
      ]
    },
    {
      "cell_type": "code",
      "metadata": {
        "id": "fGGQjsjS5cPL",
        "colab_type": "code",
        "colab": {
          "base_uri": "https://localhost:8080/",
          "height": 282
        },
        "outputId": "c393f977-4315-4ee7-ae82-de62cbc3680d"
      },
      "source": [
        "from sklearn.metrics.pairwise import rbf_kernel\n",
        "from sklearn.linear_model import Ridge\n",
        "\n",
        "kx = rbf_kernel(x, x)\n",
        "KX = rbf_kernel(X, x)\n",
        "\n",
        "clf = Ridge()\n",
        "clf.fit(kx, y)\n",
        "\n",
        "p = clf.predict(KX)\n",
        "\n",
        "plt.scatter(x, y)\n",
        "plt.plot(X, p)\n",
        "\n",
        "print(clf.score(kx, y))"
      ],
      "execution_count": 8,
      "outputs": [
        {
          "output_type": "stream",
          "text": [
            "0.8125844243054376\n"
          ],
          "name": "stdout"
        },
        {
          "output_type": "display_data",
          "data": {
            "image/png": "[encoded data removed]",
            "text/plain": [
              "<Figure size 432x288 with 1 Axes>"
            ]
          },
          "metadata": {
            "tags": []
          }
        }
      ]
    },
    {
      "cell_type": "markdown",
      "metadata": {
        "id": "EySLqORu53cO",
        "colab_type": "text"
      },
      "source": [
        "学習したパラメータの表示"
      ]
    },
    {
      "cell_type": "code",
      "metadata": {
        "id": "jrGGWvW85se-",
        "colab_type": "code",
        "colab": {
          "base_uri": "https://localhost:8080/",
          "height": 170
        },
        "outputId": "4816c528-e50c-4511-9beb-e6ace4d534d4"
      },
      "source": [
        "print(clf.coef_)"
      ],
      "execution_count": 9,
      "outputs": [
        {
          "output_type": "stream",
          "text": [
            "[[-0.06076701 -0.01054298  0.03690403  0.07550003  0.10011339  0.10745977\n",
            "   0.09670685  0.0696496   0.03042232 -0.01518426 -0.06065172 -0.09971821\n",
            "  -0.12723547 -0.13976421 -0.1358457  -0.1159622  -0.08225617 -0.03810725\n",
            "   0.01233547  0.06459372  0.11423636  0.15718898  0.18999401  0.21004138\n",
            "   0.21577609  0.20686754  0.18430577  0.15038133  0.10851445  0.06292431\n",
            "   0.01816483 -0.02141196 -0.05218022 -0.07166393 -0.07878886 -0.07392642\n",
            "  -0.05873454 -0.03583795 -0.00841483  0.02023677  0.04708826  0.0696806\n",
            "   0.08631294  0.09611724  0.09903021  0.09568248  0.08722865  0.07514411\n",
            "   0.06101488  0.04634564]]\n"
          ],
          "name": "stdout"
        }
      ]
    },
    {
      "cell_type": "markdown",
      "metadata": {
        "id": "ICKdqI5v5cPM",
        "colab_type": "text"
      },
      "source": [
        "<BR>\n",
        "<font size=\"7\">4. L1制約付き回帰（LASSO回帰）</font>"
      ]
    },
    {
      "cell_type": "code",
      "metadata": {
        "id": "DoFnntOb5cPN",
        "colab_type": "code",
        "colab": {
          "base_uri": "https://localhost:8080/",
          "height": 282
        },
        "outputId": "1487de62-3f7d-4084-fd9e-b98e57760b72"
      },
      "source": [
        "from sklearn.metrics.pairwise import rbf_kernel\n",
        "from sklearn.linear_model import Lasso\n",
        "\n",
        "kx = rbf_kernel(x, x)\n",
        "KX = rbf_kernel(X, x)\n",
        "\n",
        "clf = Lasso(alpha=0.01)\n",
        "clf.fit(kx, y)\n",
        "\n",
        "p = clf.predict(KX)\n",
        "\n",
        "plt.scatter(x, y)\n",
        "plt.plot(X, p)\n",
        "\n",
        "print(clf.score(kx, y)) # 0.820550922167"
      ],
      "execution_count": 5,
      "outputs": [
        {
          "output_type": "stream",
          "text": [
            "0.7653127577740497\n"
          ],
          "name": "stdout"
        },
        {
          "output_type": "display_data",
          "data": {
            "image/png": "[encoded data removed]",
            "text/plain": [
              "<Figure size 432x288 with 1 Axes>"
            ]
          },
          "metadata": {
            "tags": []
          }
        }
      ]
    },
    {
      "cell_type": "code",
      "metadata": {
        "id": "pco8NFaI59Sy",
        "colab_type": "code",
        "colab": {}
      },
      "source": [
        "学習したパラメータの表示。L1制約によりスパース学習されていることを確認。"
      ],
      "execution_count": 0,
      "outputs": []
    },
    {
      "cell_type": "code",
      "metadata": {
        "id": "4BDZMEZH5cPP",
        "colab_type": "code",
        "colab": {
          "base_uri": "https://localhost:8080/",
          "height": 170
        },
        "outputId": "adce7025-35b8-4071-8a2e-5c3f8264ace2"
      },
      "source": [
        "print(clf.coef_)"
      ],
      "execution_count": 6,
      "outputs": [
        {
          "output_type": "stream",
          "text": [
            "[-0.          0.          0.          0.          0.          0.\n",
            "  0.         -0.         -0.         -0.         -0.         -0.\n",
            " -0.         -0.61865004 -0.         -0.         -0.         -0.\n",
            " -0.          0.          0.          0.          0.          0.\n",
            "  0.9996286   0.          0.          0.          0.          0.\n",
            " -0.         -0.         -0.         -0.         -0.19919188 -0.\n",
            " -0.         -0.         -0.         -0.          0.          0.\n",
            "  0.          0.          0.          0.          0.24054595  0.\n",
            "  0.          0.        ]\n"
          ],
          "name": "stdout"
        }
      ]
    },
    {
      "cell_type": "code",
      "metadata": {
        "id": "2J9y-GA75cPR",
        "colab_type": "code",
        "colab": {
          "base_uri": "https://localhost:8080/",
          "height": 54
        },
        "outputId": "74536599-c8f8-4bae-ee86-7782a0567044"
      },
      "source": [
        "#おまけ(内部パラメータやメソッドを表示)\n",
        "print(dir(clf))"
      ],
      "execution_count": 7,
      "outputs": [
        {
          "output_type": "stream",
          "text": [
            "['__abstractmethods__', '__class__', '__delattr__', '__dict__', '__dir__', '__doc__', '__eq__', '__format__', '__ge__', '__getattribute__', '__getstate__', '__gt__', '__hash__', '__init__', '__init_subclass__', '__le__', '__lt__', '__module__', '__ne__', '__new__', '__reduce__', '__reduce_ex__', '__repr__', '__setattr__', '__setstate__', '__sizeof__', '__str__', '__subclasshook__', '__weakref__', '_abc_cache', '_abc_negative_cache', '_abc_negative_cache_version', '_abc_registry', '_decision_function', '_estimator_type', '_get_param_names', '_get_tags', '_more_tags', '_preprocess_data', '_set_intercept', 'alpha', 'coef_', 'copy_X', 'dual_gap_', 'fit', 'fit_intercept', 'get_params', 'intercept_', 'l1_ratio', 'max_iter', 'n_iter_', 'normalize', 'path', 'positive', 'precompute', 'predict', 'random_state', 'score', 'selection', 'set_params', 'sparse_coef_', 'tol', 'warm_start']\n"
          ],
          "name": "stdout"
        }
      ]
    },
    {
      "cell_type": "code",
      "metadata": {
        "id": "KI0pW0x85cPT",
        "colab_type": "code",
        "colab": {}
      },
      "source": [
        ""
      ],
      "execution_count": 0,
      "outputs": []
    }
  ]
}