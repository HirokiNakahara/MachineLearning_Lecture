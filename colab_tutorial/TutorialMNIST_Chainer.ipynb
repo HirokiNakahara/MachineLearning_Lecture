{
  "nbformat": 4,
  "nbformat_minor": 0,
  "metadata": {
    "colab": {
      "name": "TutorialMNIST_Chainer_2019Jan13.ipynb",
      "provenance": [],
      "collapsed_sections": []
    },
    "kernelspec": {
      "name": "python3",
      "display_name": "Python 3"
    },
    "accelerator": "GPU"
  },
  "cells": [
    {
      "cell_type": "markdown",
      "metadata": {
        "id": "CG6-1k17Jsic",
        "colab_type": "text"
      },
      "source": [
        "<H2>手書き文字認識を行うNeural Networkのレシピ</H2><br><H3>中原作成</H3>\n",
        "ニューラルネットワークを使った画像認識のレシピです。今回はチュートリアルなどでよく使われている手書き文字データセットMNISTを学習してモデルを作成し、テスト画像を入力してその認識精度を確認します。\n",
        "\n",
        "Chainer 4.5.0<BR>\n",
        "CuPy 4.5.0<BR>\n",
        "CUDA 9.2<BR>\n",
        "  "
      ]
    },
    {
      "cell_type": "markdown",
      "metadata": {
        "id": "0kRHD0H7Qs17",
        "colab_type": "text"
      },
      "source": [
        "<H2>環境のセットアップ（TSUBAMEでは不要？)</H2>"
      ]
    },
    {
      "cell_type": "code",
      "metadata": {
        "id": "xulhz7GExHiu",
        "colab_type": "code",
        "outputId": "e68d7a5a-2206-4f28-d71f-feb275a9928e",
        "colab": {
          "base_uri": "https://localhost:8080/",
          "height": 306
        }
      },
      "source": [
        "# Check GPU status\n",
        "!nvidia-smi"
      ],
      "execution_count": 1,
      "outputs": [
        {
          "output_type": "stream",
          "text": [
            "Thu Oct 31 07:58:07 2019       \n",
            "+-----------------------------------------------------------------------------+\n",
            "| NVIDIA-SMI 430.50       Driver Version: 418.67       CUDA Version: 10.1     |\n",
            "|-------------------------------+----------------------+----------------------+\n",
            "| GPU  Name        Persistence-M| Bus-Id        Disp.A | Volatile Uncorr. ECC |\n",
            "| Fan  Temp  Perf  Pwr:Usage/Cap|         Memory-Usage | GPU-Util  Compute M. |\n",
            "|===============================+======================+======================|\n",
            "|   0  Tesla K80           Off  | 00000000:00:04.0 Off |                    0 |\n",
            "| N/A   54C    P8    30W / 149W |      0MiB / 11441MiB |      0%      Default |\n",
            "+-------------------------------+----------------------+----------------------+\n",
            "                                                                               \n",
            "+-----------------------------------------------------------------------------+\n",
            "| Processes:                                                       GPU Memory |\n",
            "|  GPU       PID   Type   Process name                             Usage      |\n",
            "|=============================================================================|\n",
            "|  No running processes found                                                 |\n",
            "+-----------------------------------------------------------------------------+\n"
          ],
          "name": "stdout"
        }
      ]
    },
    {
      "cell_type": "code",
      "metadata": {
        "id": "uCJdcBejxRH1",
        "colab_type": "code",
        "colab": {}
      },
      "source": [
        "# 旧バージョン向けにライブラリをインポート、現在は不要だと思います。（たぶん）\n",
        "### Install Chainer v4.5.0, Cupy v4.5.0 and CUDA\n",
        "##!curl https://colab.chainer.org/install | CHAINER_VERSION=\"==4.5.0\" CUPY_VERSION=\"==4.5.0\" sh -"
      ],
      "execution_count": 0,
      "outputs": []
    },
    {
      "cell_type": "markdown",
      "metadata": {
        "id": "Zl5wlxN9ROIc",
        "colab_type": "text"
      },
      "source": [
        "<H3>必要なライブラリのインポート</H3>"
      ]
    },
    {
      "cell_type": "code",
      "metadata": {
        "id": "uyGLqwsQ_h1C",
        "colab_type": "code",
        "colab": {}
      },
      "source": [
        "# Import libraries\n",
        "import chainer\n",
        "import chainer.functions as F\n",
        "import chainer.links as L\n",
        "from chainer import training\n",
        "from chainer.training import extensions\n",
        "from chainer.dataset import concat_examples\n",
        "from chainer.backends.cuda import to_cpu\n",
        "import numpy as np"
      ],
      "execution_count": 0,
      "outputs": []
    },
    {
      "cell_type": "code",
      "metadata": {
        "id": "KPVtGsZDxWx2",
        "colab_type": "code",
        "outputId": "08283ce8-4aad-437b-8000-146611296105",
        "colab": {
          "base_uri": "https://localhost:8080/",
          "height": 289
        }
      },
      "source": [
        "# Check environment\n",
        "print('GPU availability:', chainer.cuda.available)\n",
        "print('cuDNN availablility:', chainer.cuda.cudnn_enabled)\n",
        "import chainer\n",
        "chainer.print_runtime_info()"
      ],
      "execution_count": 8,
      "outputs": [
        {
          "output_type": "stream",
          "text": [
            "GPU availability: True\n",
            "cuDNN availablility: True\n",
            "Platform: Linux-4.14.137+-x86_64-with-Ubuntu-18.04-bionic\n",
            "Chainer: 5.4.0\n",
            "NumPy: 1.17.3\n",
            "CuPy:\n",
            "  CuPy Version          : 5.4.0\n",
            "  CUDA Root             : /usr/local/cuda\n",
            "  CUDA Build Version    : 10000\n",
            "  CUDA Driver Version   : 10010\n",
            "  CUDA Runtime Version  : 10000\n",
            "  cuDNN Build Version   : 7301\n",
            "  cuDNN Version         : 7301\n",
            "  NCCL Build Version    : 2402\n",
            "  NCCL Runtime Version  : 2402\n",
            "iDeep: 2.0.0.post3\n"
          ],
          "name": "stdout"
        }
      ]
    },
    {
      "cell_type": "markdown",
      "metadata": {
        "id": "QBZpV4wXRWpl",
        "colab_type": "text"
      },
      "source": [
        "<H3>ニューラルネットワークの定義</H3>"
      ]
    },
    {
      "cell_type": "code",
      "metadata": {
        "id": "UEyGw2vh_SO8",
        "colab_type": "code",
        "colab": {}
      },
      "source": [
        "# Define Binary DNN (3-layers), note that, we use a mixed-precision (Binary + Float32) neural network\n",
        "# To preserve a recognition accuracy. If you want learn more, see my FPGA'18 paper!\n",
        "class MNIST(chainer.Chain):\n",
        "\n",
        "    def __init__(self,n_mid_units=100,n_out=10):\n",
        "        super(MNIST, self).__init__()\n",
        "        with self.init_scope():\n",
        "            # the size of the inputs to each layer will be inferred\n",
        "            self.l1 = L.Linear(784, n_mid_units)\n",
        "            self.l2 = L.Linear(n_mid_units, n_mid_units)\n",
        "            self.l3 = L.Linear(n_mid_units, n_out)\n",
        "\n",
        "    def __call__(self, x):\n",
        "        h1 = F.relu(self.l1(x))\n",
        "        h2 = F.relu(self.l2(h1))\n",
        "        return self.l3(h2)"
      ],
      "execution_count": 0,
      "outputs": []
    },
    {
      "cell_type": "markdown",
      "metadata": {
        "id": "uHoLdtgVRxz2",
        "colab_type": "text"
      },
      "source": [
        "<H3>ニューラルネットワークのパラメータと学習の設定</H3>"
      ]
    },
    {
      "cell_type": "code",
      "metadata": {
        "id": "mwnj-A0wBsCm",
        "colab_type": "code",
        "colab": {}
      },
      "source": [
        "# Setup parameters\n",
        "args_gpu=0 # 0: GPU (strongly recommendded), -1: CPU\n",
        "args_unit=100 # The number of neurons in hidden layers\n",
        "args_batchsize=100\n",
        "args_epoch=3"
      ],
      "execution_count": 0,
      "outputs": []
    },
    {
      "cell_type": "markdown",
      "metadata": {
        "id": "_h6RCe2NR-Pq",
        "colab_type": "text"
      },
      "source": [
        "<H3>定義したニューラルネットワークをメモリに読み込み、学習させる準備を行います。</H3>"
      ]
    },
    {
      "cell_type": "code",
      "metadata": {
        "id": "fbLWEDc0xkUR",
        "colab_type": "code",
        "outputId": "f36733f3-4560-432f-89f2-cdb1eeb29d64",
        "colab": {
          "base_uri": "https://localhost:8080/",
          "height": 119
        }
      },
      "source": [
        "# Printout parameters\n",
        "print('GPU: {}'.format(args_gpu))\n",
        "print('# unit: {}'.format(args_unit))\n",
        "print('# Minibatch-size: {}'.format(args_batchsize))\n",
        "print('# epoch: {}'.format(args_epoch))\n",
        "print('')\n",
        "\n",
        "# Set up a neural network to train\n",
        "# Classifier reports softmax cross entropy loss and accuracy at every\n",
        "# iteration, which will be used by the PrintReport extension below.\n",
        "model = MNIST()\n",
        "if args_gpu >= 0:\n",
        "    # Make a specified GPU current\n",
        "    chainer.backends.cuda.get_device_from_id(args_gpu).use()\n",
        "    model.to_gpu()  # Copy the model to the GPU\n",
        "\n",
        "# Setup an optimizer\n",
        "optimizer = chainer.optimizers.Adam(alpha=0.0001)\n",
        "optimizer.setup(model)"
      ],
      "execution_count": 11,
      "outputs": [
        {
          "output_type": "stream",
          "text": [
            "GPU: 0\n",
            "# unit: 100\n",
            "# Minibatch-size: 100\n",
            "# epoch: 3\n",
            "\n"
          ],
          "name": "stdout"
        },
        {
          "output_type": "execute_result",
          "data": {
            "text/plain": [
              "<chainer.optimizers.adam.Adam at 0x7f4f4c084b38>"
            ]
          },
          "metadata": {
            "tags": []
          },
          "execution_count": 11
        }
      ]
    },
    {
      "cell_type": "markdown",
      "metadata": {
        "id": "u-ATPqDkg575",
        "colab_type": "text"
      },
      "source": [
        "<H3>学習データであるMNISTデータセット(またはFashion MNIST)の読み込み。初回は多少時間がかかります。。</H3>"
      ]
    },
    {
      "cell_type": "code",
      "metadata": {
        "id": "9F7ctZ_LgPQ0",
        "colab_type": "code",
        "outputId": "76002b00-7c44-4304-af88-06e2b82f4d24",
        "colab": {
          "base_uri": "https://localhost:8080/",
          "height": 85
        }
      },
      "source": [
        "# Load the MNIST dataset\n",
        "train, test = chainer.datasets.get_mnist() # handwritten character\n",
        "#train, test = chainer.datasets.get_fashion_mnist() # fashion items\n",
        "\n",
        "train_iter = chainer.iterators.SerialIterator(train, args_batchsize)\n",
        "test_iter = chainer.iterators.SerialIterator(test, args_batchsize,\n",
        "                                                 repeat=False, shuffle=False)"
      ],
      "execution_count": 12,
      "outputs": [
        {
          "output_type": "stream",
          "text": [
            "Downloading from http://yann.lecun.com/exdb/mnist/train-images-idx3-ubyte.gz...\n",
            "Downloading from http://yann.lecun.com/exdb/mnist/train-labels-idx1-ubyte.gz...\n",
            "Downloading from http://yann.lecun.com/exdb/mnist/t10k-images-idx3-ubyte.gz...\n",
            "Downloading from http://yann.lecun.com/exdb/mnist/t10k-labels-idx1-ubyte.gz...\n"
          ],
          "name": "stderr"
        }
      ]
    },
    {
      "cell_type": "markdown",
      "metadata": {
        "id": "dmi7vP0Kg_IY",
        "colab_type": "text"
      },
      "source": [
        "<H3>MNISTデータの表示。このような画像を５万枚用いて学習します。認識精度のチェックには残り１万枚を用います。</H3>"
      ]
    },
    {
      "cell_type": "code",
      "metadata": {
        "id": "u8vNAZ8aMlnG",
        "colab_type": "code",
        "outputId": "32e8f13f-ffba-48b6-dd1a-6a09c83f78eb",
        "colab": {
          "base_uri": "https://localhost:8080/",
          "height": 286
        }
      },
      "source": [
        "# Illustrate MNIST dataset\n",
        "import matplotlib.pyplot as plt\n",
        "\n",
        "print(type(train))\n",
        "xtrain = train._datasets[0][:48]\n",
        "\n",
        "fig,ax = plt.subplots(nrows=6,ncols=8,sharex=True,sharey=True)\n",
        "ax = ax.flatten()\n",
        "for i in range(48):\n",
        "    img = xtrain[i].reshape(28,28)\n",
        "    ax[i].imshow(img,cmap='Greys',interpolation='none')"
      ],
      "execution_count": 13,
      "outputs": [
        {
          "output_type": "stream",
          "text": [
            "<class 'chainer.datasets.tuple_dataset.TupleDataset'>\n"
          ],
          "name": "stdout"
        },
        {
          "output_type": "display_data",
          "data": {
            "image/png": "[encoded data removed]",
            "text/plain": [
              "<Figure size 432x288 with 48 Axes>"
            ]
          },
          "metadata": {
            "tags": []
          }
        }
      ]
    },
    {
      "cell_type": "markdown",
      "metadata": {
        "id": "IIInqvWNMFL6",
        "colab_type": "text"
      },
      "source": [
        "<h3>ニューラルネットワークの学習を行います。GPUを用いて高速に学習ができます。</h3>"
      ]
    },
    {
      "cell_type": "code",
      "metadata": {
        "id": "FD20htG6yUsL",
        "colab_type": "code",
        "outputId": "55cf2fd5-510d-4799-e623-a23d841e1bc5",
        "colab": {
          "base_uri": "https://localhost:8080/",
          "height": 85
        }
      },
      "source": [
        "max_epoch = args_epoch\n",
        "\n",
        "while train_iter.epoch < max_epoch:\n",
        "    train_accuracies = []\n",
        "    # ---------- One iteration of the training loop ----------\n",
        "    train_batch = train_iter.next()\n",
        "    image_train, target_train = concat_examples(train_batch, args_gpu)\n",
        "\n",
        "    # Calculate the prediction of the network\n",
        "    prediction_train = model(image_train)\n",
        "\n",
        "    # Calculate the loss with softmax_cross_entropy\n",
        "    loss = F.softmax_cross_entropy(prediction_train, target_train)\n",
        "    accuracy = F.accuracy(prediction_train, target_train)\n",
        "    accuracy.to_cpu()\n",
        "    train_accuracies.append(accuracy.data)\n",
        "    # Calculate the gradients in the network\n",
        "    model.cleargrads()\n",
        "    loss.backward()\n",
        "\n",
        "    # Update all the trainable parameters\n",
        "    optimizer.update()\n",
        "    # --------------------- until here ---------------------\n",
        "\n",
        "    # Check the validation accuracy of prediction after every epoch\n",
        "    if train_iter.is_new_epoch:  # If this iteration is the final iteration of the current epoch\n",
        "\n",
        "        # Display the training loss\n",
        "        print('epoch:{:02d} train_loss:{:.04f} '.format(\n",
        "                train_iter.epoch, float(to_cpu(loss.data))), end='')\n",
        "        print('train_accuracy:{:.04f} '.format(\n",
        "            np.mean(train_accuracies)),end='')\n",
        "\n",
        "        test_losses = []\n",
        "        test_accuracies = []\n",
        "        while True:\n",
        "            test_batch = test_iter.next()\n",
        "            image_test, target_test = concat_examples(test_batch, args_gpu)\n",
        "\n",
        "            # Forward the test data\n",
        "            prediction_test = model(image_test)\n",
        "\n",
        "            # Calculate the loss\n",
        "            loss_test = F.softmax_cross_entropy(prediction_test, target_test)\n",
        "            test_losses.append(to_cpu(loss_test.data))\n",
        "\n",
        "            # Calculate the accuracy\n",
        "            accuracy = F.accuracy(prediction_test, target_test)\n",
        "            accuracy.to_cpu()\n",
        "            test_accuracies.append(accuracy.data)\n",
        "\n",
        "            if test_iter.is_new_epoch:\n",
        "                test_iter.epoch = 0\n",
        "                test_iter.current_position = 0\n",
        "                test_iter.is_new_epoch = False\n",
        "                test_iter._pushed_position = None\n",
        "                break\n",
        "\n",
        "        print('val_loss:{:.04f} val_accuracy:{:.04f}'.format(\n",
        "                np.mean(test_losses), np.mean(test_accuracies)))\n",
        "\n",
        "print(\"Done.\")\n",
        "chainer.serializers.save_npz('mnist.model',model)"
      ],
      "execution_count": 14,
      "outputs": [
        {
          "output_type": "stream",
          "text": [
            "epoch:01 train_loss:0.3819 train_accuracy:0.9000 val_loss:0.3834 val_accuracy:0.9010\n",
            "epoch:02 train_loss:0.2052 train_accuracy:0.9400 val_loss:0.2814 val_accuracy:0.9222\n",
            "epoch:03 train_loss:0.2489 train_accuracy:0.9500 val_loss:0.2409 val_accuracy:0.9319\n",
            "Done.\n"
          ],
          "name": "stdout"
        }
      ]
    },
    {
      "cell_type": "markdown",
      "metadata": {
        "id": "V_0Boh-KhsjR",
        "colab_type": "text"
      },
      "source": [
        "<H3>学習したニューラルネットワークを使って認識できるかチェックしてみます。</H3>"
      ]
    },
    {
      "cell_type": "code",
      "metadata": {
        "id": "ZFAeK0gRMhyV",
        "colab_type": "code",
        "outputId": "fc2a1aa7-491b-4bda-b544-7024e2e45cd8",
        "colab": {
          "base_uri": "https://localhost:8080/",
          "height": 379
        }
      },
      "source": [
        "\n",
        "from chainer import Variable\n",
        "\n",
        "def show_examples(model, test, device):\n",
        "    plt.figure(figsize=(12,50))\n",
        "#    if device < 0:\n",
        "#        print(\"to cpu\")\n",
        "#        model.to_cpu()   test inpu\n",
        "    model.to_cpu()\n",
        "    for i in range(45, 55):\n",
        "        data, label = test[i]  # test data, label\n",
        "        x = Variable(np.asarray([data]))\n",
        "        t = Variable(np.asarray([label]))  # labels\n",
        "        y = model(x)\n",
        "        prediction = y.data.argmax(axis=1)\n",
        "        example = (data * 255).astype(np.int32).reshape(28, 28)\n",
        "        plt.subplot(20, 5, i - 44)\n",
        "        plt.imshow(example, cmap='gray')\n",
        "        plt.title(\"No.{0}\\nAnswer:{1}\\nPredict:{2}\".format(\n",
        "            i,\n",
        "            label,\n",
        "            prediction[0]\n",
        "        ))\n",
        "        plt.axis(\"off\")\n",
        "    plt.tight_layout()\n",
        "\n",
        "show_examples(model, test, args_gpu)"
      ],
      "execution_count": 15,
      "outputs": [
        {
          "output_type": "display_data",
          "data": {
            "image/png": "[encoded data removed]",
            "text/plain": [
              "<Figure size 864x3600 with 10 Axes>"
            ]
          },
          "metadata": {
            "tags": []
          }
        }
      ]
    }
  ]
}